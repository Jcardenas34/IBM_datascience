{
 "cells": [
  {
   "cell_type": "markdown",
   "id": "ffd3a83b-ae41-4360-88bf-b6dc49b9adf2",
   "metadata": {},
   "source": [
    "# Data Science Tools and Ecosystem"
   ]
  },
  {
   "cell_type": "markdown",
   "id": "525198c6-08d3-41a4-a110-67bb076de564",
   "metadata": {},
   "source": [
    "In this notebook, Data Science Tools and Ecosystem are summarized."
   ]
  },
  {
   "cell_type": "markdown",
   "id": "dd99e035-68c8-449e-97fa-5327773a6e3b",
   "metadata": {},
   "source": [
    "**Objectives:**\n",
    "+ Listing some of the popular programming languages used in Data Science\n",
    "+ Showing how to create a table in markdown\n",
    "+ How to perform basic arithmetic using a jupyter notebook\n",
    "+ Show some of the popular libraries used in data science"
   ]
  },
  {
   "cell_type": "markdown",
   "id": "b73f4cd2-90d9-47a1-83da-88935227a646",
   "metadata": {},
   "source": [
    "## Author\n",
    "Juan Cardenas"
   ]
  },
  {
   "cell_type": "markdown",
   "id": "e4178d7a-15c9-42d6-8a9e-80329fd1361c",
   "metadata": {},
   "source": [
    "Some of the popular languages that Data Scientists use are:\n",
    "1. Python\n",
    "2. R\n",
    "3. Julia\n",
    "4. Scala"
   ]
  },
  {
   "cell_type": "markdown",
   "id": "3a056941-7ec2-4fdb-91b3-8f1c9798a723",
   "metadata": {},
   "source": [
    "Some of the commonly used libraries used by Data Scientists include:\n",
    "1. Python\n",
    "2. R\n",
    "3. Julia\n",
    "4. Scala\n"
   ]
  },
  {
   "cell_type": "markdown",
   "id": "42851782-f3d7-4cbd-80b2-08bee5883c96",
   "metadata": {},
   "source": [
    "|Data Science Tools|\n",
    "|--------------------|\n",
    "|Jupyter Lab|\n",
    "|Spyder|\n",
    "|VSCode|"
   ]
  },
  {
   "cell_type": "markdown",
   "id": "9d5e0c3e-8834-4340-8ea3-2d33807f0217",
   "metadata": {},
   "source": [
    "### Below are a few examples of evaluating arithmetic expressions in Python"
   ]
  },
  {
   "cell_type": "code",
   "execution_count": 5,
   "id": "8f96ba50-0704-4caa-addb-d034e8447bf9",
   "metadata": {},
   "outputs": [
    {
     "data": {
      "text/plain": [
       "17"
      ]
     },
     "execution_count": 5,
     "metadata": {},
     "output_type": "execute_result"
    }
   ],
   "source": [
    "# This a simple arithmetic expression to mutiply then add integers\n",
    "(3*4)+5"
   ]
  },
  {
   "cell_type": "code",
   "execution_count": 6,
   "id": "361b3888-47a1-4c20-9d84-53779aac319c",
   "metadata": {},
   "outputs": [
    {
     "data": {
      "text/plain": [
       "33.333333333333336"
      ]
     },
     "execution_count": 6,
     "metadata": {},
     "output_type": "execute_result"
    }
   ],
   "source": [
    "# This will convert 200 minutes to hours by diving by 60\n",
    "200/6"
   ]
  },
  {
   "cell_type": "code",
   "execution_count": null,
   "id": "c71f231a-f5ff-4326-8750-fd371d48a57c",
   "metadata": {},
   "outputs": [],
   "source": []
  }
 ],
 "metadata": {
  "kernelspec": {
   "display_name": "Python 3 (ipykernel)",
   "language": "python",
   "name": "python3"
  },
  "language_info": {
   "codemirror_mode": {
    "name": "ipython",
    "version": 3
   },
   "file_extension": ".py",
   "mimetype": "text/x-python",
   "name": "python",
   "nbconvert_exporter": "python",
   "pygments_lexer": "ipython3",
   "version": "3.11.5"
  }
 },
 "nbformat": 4,
 "nbformat_minor": 5
}
